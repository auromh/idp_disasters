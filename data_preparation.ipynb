{
 "cells": [
  {
   "cell_type": "markdown",
   "metadata": {},
   "source": [
    "This notebook will be used to load and process all the data that will be needed for the visualization part. This notebook is divided into three parts:\n",
    "1. Internally Displaced Persons: Data obtained through (https://data.humdata.org/dataset/idmc-internally-displaced-persons-idps-new-displacement-associated-with-disasters) with info about the number of people internally displaced associated to natural disasters. Loading and cleaning the df.\n",
    "2. Average temperature 1991-2016: Data about the earth surface temperature (https://climate.nasa.gov/vital-signs/global-temperature/). Loading and cleaning the df.\n",
    "3. Merging both dfs"
   ]
  },
  {
   "cell_type": "markdown",
   "metadata": {},
   "source": [
    "# 1. Internally Displaced Persons\n"
   ]
  },
  {
   "cell_type": "code",
   "execution_count": 1,
   "metadata": {},
   "outputs": [],
   "source": [
    "import pandas as pd\n",
    "import pycountry_convert as pc"
   ]
  },
  {
   "cell_type": "markdown",
   "metadata": {},
   "source": [
    "#### We define a function that takes the iso3 standard of a country and returns the continent code to which that country belongs"
   ]
  },
  {
   "cell_type": "code",
   "execution_count": 2,
   "metadata": {},
   "outputs": [],
   "source": [
    "def continent(country_code):\n",
    "    try:\n",
    "        return pc.country_alpha2_to_continent_code(pc.country_alpha3_to_country_alpha2(country_code))\n",
    "    except:\n",
    "        return \"no_continent\""
   ]
  },
  {
   "cell_type": "markdown",
   "metadata": {},
   "source": [
    "#### Loading data"
   ]
  },
  {
   "cell_type": "code",
   "execution_count": 3,
   "metadata": {},
   "outputs": [],
   "source": [
    "idp=pd.read_csv(\"input/disaster_data.csv\")"
   ]
  },
  {
   "cell_type": "code",
   "execution_count": 4,
   "metadata": {},
   "outputs": [
    {
     "data": {
      "text/html": [
       "<div>\n",
       "<style scoped>\n",
       "    .dataframe tbody tr th:only-of-type {\n",
       "        vertical-align: middle;\n",
       "    }\n",
       "\n",
       "    .dataframe tbody tr th {\n",
       "        vertical-align: top;\n",
       "    }\n",
       "\n",
       "    .dataframe thead th {\n",
       "        text-align: right;\n",
       "    }\n",
       "</style>\n",
       "<table border=\"1\" class=\"dataframe\">\n",
       "  <thead>\n",
       "    <tr style=\"text-align: right;\">\n",
       "      <th></th>\n",
       "      <th>ISO3</th>\n",
       "      <th>Name</th>\n",
       "      <th>Year</th>\n",
       "      <th>Start Date</th>\n",
       "      <th>Event Name</th>\n",
       "      <th>Hazard Category</th>\n",
       "      <th>Hazard Type</th>\n",
       "      <th>New Displacements</th>\n",
       "    </tr>\n",
       "  </thead>\n",
       "  <tbody>\n",
       "    <tr>\n",
       "      <td>0</td>\n",
       "      <td>#country+code</td>\n",
       "      <td>#country+name</td>\n",
       "      <td>#date+year</td>\n",
       "      <td>#date+start</td>\n",
       "      <td>#description</td>\n",
       "      <td>#crisis+category</td>\n",
       "      <td>#crisis+type</td>\n",
       "      <td>#affected+idps+ind+newdisp+disaster</td>\n",
       "    </tr>\n",
       "    <tr>\n",
       "      <td>1</td>\n",
       "      <td>AB9</td>\n",
       "      <td>Abyei Area</td>\n",
       "      <td>2018</td>\n",
       "      <td>2018-07-01</td>\n",
       "      <td>Abyie: Flood - 01/07/2018</td>\n",
       "      <td>Weather related</td>\n",
       "      <td>Flood</td>\n",
       "      <td>2</td>\n",
       "    </tr>\n",
       "    <tr>\n",
       "      <td>2</td>\n",
       "      <td>AFG</td>\n",
       "      <td>Afghanistan</td>\n",
       "      <td>2008</td>\n",
       "      <td>2008-01-01</td>\n",
       "      <td>NaN</td>\n",
       "      <td>Weather related</td>\n",
       "      <td>Extreme temperature</td>\n",
       "      <td>NaN</td>\n",
       "    </tr>\n",
       "    <tr>\n",
       "      <td>3</td>\n",
       "      <td>AFG</td>\n",
       "      <td>Afghanistan</td>\n",
       "      <td>2008</td>\n",
       "      <td>2008-08-01</td>\n",
       "      <td>NaN</td>\n",
       "      <td>Weather related</td>\n",
       "      <td>Flood</td>\n",
       "      <td>180</td>\n",
       "    </tr>\n",
       "    <tr>\n",
       "      <td>4</td>\n",
       "      <td>AFG</td>\n",
       "      <td>Afghanistan</td>\n",
       "      <td>2008</td>\n",
       "      <td>2008-04-17</td>\n",
       "      <td>NaN</td>\n",
       "      <td>Geophysical</td>\n",
       "      <td>Earthquake</td>\n",
       "      <td>3250</td>\n",
       "    </tr>\n",
       "  </tbody>\n",
       "</table>\n",
       "</div>"
      ],
      "text/plain": [
       "            ISO3           Name        Year   Start Date  \\\n",
       "0  #country+code  #country+name  #date+year  #date+start   \n",
       "1            AB9     Abyei Area        2018   2018-07-01   \n",
       "2            AFG    Afghanistan        2008   2008-01-01   \n",
       "3            AFG    Afghanistan        2008   2008-08-01   \n",
       "4            AFG    Afghanistan        2008   2008-04-17   \n",
       "\n",
       "                  Event Name   Hazard Category          Hazard Type  \\\n",
       "0               #description  #crisis+category         #crisis+type   \n",
       "1  Abyie: Flood - 01/07/2018   Weather related                Flood   \n",
       "2                        NaN   Weather related  Extreme temperature   \n",
       "3                        NaN   Weather related                Flood   \n",
       "4                        NaN       Geophysical           Earthquake   \n",
       "\n",
       "                     New Displacements  \n",
       "0  #affected+idps+ind+newdisp+disaster  \n",
       "1                                    2  \n",
       "2                                  NaN  \n",
       "3                                  180  \n",
       "4                                 3250  "
      ]
     },
     "execution_count": 4,
     "metadata": {},
     "output_type": "execute_result"
    }
   ],
   "source": [
    "idp.head()"
   ]
  },
  {
   "cell_type": "markdown",
   "metadata": {},
   "source": [
    "#### Cleaning first row"
   ]
  },
  {
   "cell_type": "code",
   "execution_count": 5,
   "metadata": {},
   "outputs": [],
   "source": [
    "idp.drop(0,inplace=True)"
   ]
  },
  {
   "cell_type": "code",
   "execution_count": 6,
   "metadata": {},
   "outputs": [
    {
     "data": {
      "text/html": [
       "<div>\n",
       "<style scoped>\n",
       "    .dataframe tbody tr th:only-of-type {\n",
       "        vertical-align: middle;\n",
       "    }\n",
       "\n",
       "    .dataframe tbody tr th {\n",
       "        vertical-align: top;\n",
       "    }\n",
       "\n",
       "    .dataframe thead th {\n",
       "        text-align: right;\n",
       "    }\n",
       "</style>\n",
       "<table border=\"1\" class=\"dataframe\">\n",
       "  <thead>\n",
       "    <tr style=\"text-align: right;\">\n",
       "      <th></th>\n",
       "      <th>ISO3</th>\n",
       "      <th>Name</th>\n",
       "      <th>Year</th>\n",
       "      <th>Start Date</th>\n",
       "      <th>Event Name</th>\n",
       "      <th>Hazard Category</th>\n",
       "      <th>Hazard Type</th>\n",
       "      <th>New Displacements</th>\n",
       "    </tr>\n",
       "  </thead>\n",
       "  <tbody>\n",
       "    <tr>\n",
       "      <td>1</td>\n",
       "      <td>AB9</td>\n",
       "      <td>Abyei Area</td>\n",
       "      <td>2018</td>\n",
       "      <td>2018-07-01</td>\n",
       "      <td>Abyie: Flood - 01/07/2018</td>\n",
       "      <td>Weather related</td>\n",
       "      <td>Flood</td>\n",
       "      <td>2</td>\n",
       "    </tr>\n",
       "    <tr>\n",
       "      <td>2</td>\n",
       "      <td>AFG</td>\n",
       "      <td>Afghanistan</td>\n",
       "      <td>2008</td>\n",
       "      <td>2008-01-01</td>\n",
       "      <td>NaN</td>\n",
       "      <td>Weather related</td>\n",
       "      <td>Extreme temperature</td>\n",
       "      <td>NaN</td>\n",
       "    </tr>\n",
       "    <tr>\n",
       "      <td>3</td>\n",
       "      <td>AFG</td>\n",
       "      <td>Afghanistan</td>\n",
       "      <td>2008</td>\n",
       "      <td>2008-08-01</td>\n",
       "      <td>NaN</td>\n",
       "      <td>Weather related</td>\n",
       "      <td>Flood</td>\n",
       "      <td>180</td>\n",
       "    </tr>\n",
       "    <tr>\n",
       "      <td>4</td>\n",
       "      <td>AFG</td>\n",
       "      <td>Afghanistan</td>\n",
       "      <td>2008</td>\n",
       "      <td>2008-04-17</td>\n",
       "      <td>NaN</td>\n",
       "      <td>Geophysical</td>\n",
       "      <td>Earthquake</td>\n",
       "      <td>3250</td>\n",
       "    </tr>\n",
       "    <tr>\n",
       "      <td>5</td>\n",
       "      <td>AFG</td>\n",
       "      <td>Afghanistan</td>\n",
       "      <td>2009</td>\n",
       "      <td>2009-01-01</td>\n",
       "      <td>NaN</td>\n",
       "      <td>Weather related</td>\n",
       "      <td>Flood</td>\n",
       "      <td>25185</td>\n",
       "    </tr>\n",
       "  </tbody>\n",
       "</table>\n",
       "</div>"
      ],
      "text/plain": [
       "  ISO3         Name  Year  Start Date                 Event Name  \\\n",
       "1  AB9   Abyei Area  2018  2018-07-01  Abyie: Flood - 01/07/2018   \n",
       "2  AFG  Afghanistan  2008  2008-01-01                        NaN   \n",
       "3  AFG  Afghanistan  2008  2008-08-01                        NaN   \n",
       "4  AFG  Afghanistan  2008  2008-04-17                        NaN   \n",
       "5  AFG  Afghanistan  2009  2009-01-01                        NaN   \n",
       "\n",
       "   Hazard Category          Hazard Type New Displacements  \n",
       "1  Weather related                Flood                 2  \n",
       "2  Weather related  Extreme temperature               NaN  \n",
       "3  Weather related                Flood               180  \n",
       "4      Geophysical           Earthquake              3250  \n",
       "5  Weather related                Flood             25185  "
      ]
     },
     "execution_count": 6,
     "metadata": {},
     "output_type": "execute_result"
    }
   ],
   "source": [
    "idp.head()"
   ]
  },
  {
   "cell_type": "markdown",
   "metadata": {},
   "source": [
    "#### Checking types"
   ]
  },
  {
   "cell_type": "code",
   "execution_count": 7,
   "metadata": {},
   "outputs": [
    {
     "data": {
      "text/plain": [
       "ISO3                 object\n",
       "Name                 object\n",
       "Year                 object\n",
       "Start Date           object\n",
       "Event Name           object\n",
       "Hazard Category      object\n",
       "Hazard Type          object\n",
       "New Displacements    object\n",
       "dtype: object"
      ]
     },
     "execution_count": 7,
     "metadata": {},
     "output_type": "execute_result"
    }
   ],
   "source": [
    "idp.dtypes"
   ]
  },
  {
   "cell_type": "markdown",
   "metadata": {},
   "source": [
    "Changing types for `Year` `Start Date` `New Displacements`"
   ]
  },
  {
   "cell_type": "code",
   "execution_count": 8,
   "metadata": {},
   "outputs": [],
   "source": [
    "idp[\"Start Date\"]=pd.to_datetime(idp[\"Start Date\"]).dt.month\n",
    "idp[\"Year\"]=idp[\"Year\"].astype(int)"
   ]
  },
  {
   "cell_type": "markdown",
   "metadata": {},
   "source": [
    "We need to fill the NaNs with zeros. Those NaNs means that althougth an event took place, there were no affected persons"
   ]
  },
  {
   "cell_type": "code",
   "execution_count": 9,
   "metadata": {},
   "outputs": [],
   "source": [
    "idp[\"New Displacements\"].fillna(0,inplace=True)"
   ]
  },
  {
   "cell_type": "code",
   "execution_count": 10,
   "metadata": {},
   "outputs": [],
   "source": [
    "idp[\"New Displacements\"]=idp[\"New Displacements\"].astype(int)"
   ]
  },
  {
   "cell_type": "markdown",
   "metadata": {},
   "source": [
    "Lets fill the NaNs in the `Event Name` column with '-' so that we know that there is no additional info related to that event"
   ]
  },
  {
   "cell_type": "code",
   "execution_count": 11,
   "metadata": {},
   "outputs": [],
   "source": [
    "idp[\"Event Name\"].fillna(\"-\",inplace=True)"
   ]
  },
  {
   "cell_type": "code",
   "execution_count": 12,
   "metadata": {},
   "outputs": [
    {
     "data": {
      "text/plain": [
       "ISO3                 object\n",
       "Name                 object\n",
       "Year                  int64\n",
       "Start Date            int64\n",
       "Event Name           object\n",
       "Hazard Category      object\n",
       "Hazard Type          object\n",
       "New Displacements     int64\n",
       "dtype: object"
      ]
     },
     "execution_count": 12,
     "metadata": {},
     "output_type": "execute_result"
    }
   ],
   "source": [
    "idp.dtypes"
   ]
  },
  {
   "cell_type": "markdown",
   "metadata": {},
   "source": [
    "#### Changing column names"
   ]
  },
  {
   "cell_type": "code",
   "execution_count": 13,
   "metadata": {},
   "outputs": [],
   "source": [
    "idp.columns=(idp.columns\n",
    "             .str.replace(\" \",\"_\")\n",
    "             .str.lower()\n",
    "             .str.replace(\"new_displacements\",\"affected\")\n",
    "             .str.replace(\"start_date\",\"month\")\n",
    "             .str.replace(\"name\",\"country\")\n",
    "            )"
   ]
  },
  {
   "cell_type": "code",
   "execution_count": 14,
   "metadata": {},
   "outputs": [
    {
     "data": {
      "text/html": [
       "<div>\n",
       "<style scoped>\n",
       "    .dataframe tbody tr th:only-of-type {\n",
       "        vertical-align: middle;\n",
       "    }\n",
       "\n",
       "    .dataframe tbody tr th {\n",
       "        vertical-align: top;\n",
       "    }\n",
       "\n",
       "    .dataframe thead th {\n",
       "        text-align: right;\n",
       "    }\n",
       "</style>\n",
       "<table border=\"1\" class=\"dataframe\">\n",
       "  <thead>\n",
       "    <tr style=\"text-align: right;\">\n",
       "      <th></th>\n",
       "      <th>iso3</th>\n",
       "      <th>country</th>\n",
       "      <th>year</th>\n",
       "      <th>month</th>\n",
       "      <th>event_country</th>\n",
       "      <th>hazard_category</th>\n",
       "      <th>hazard_type</th>\n",
       "      <th>affected</th>\n",
       "    </tr>\n",
       "  </thead>\n",
       "  <tbody>\n",
       "    <tr>\n",
       "      <td>1</td>\n",
       "      <td>AB9</td>\n",
       "      <td>Abyei Area</td>\n",
       "      <td>2018</td>\n",
       "      <td>7</td>\n",
       "      <td>Abyie: Flood - 01/07/2018</td>\n",
       "      <td>Weather related</td>\n",
       "      <td>Flood</td>\n",
       "      <td>2</td>\n",
       "    </tr>\n",
       "    <tr>\n",
       "      <td>2</td>\n",
       "      <td>AFG</td>\n",
       "      <td>Afghanistan</td>\n",
       "      <td>2008</td>\n",
       "      <td>1</td>\n",
       "      <td>-</td>\n",
       "      <td>Weather related</td>\n",
       "      <td>Extreme temperature</td>\n",
       "      <td>0</td>\n",
       "    </tr>\n",
       "    <tr>\n",
       "      <td>3</td>\n",
       "      <td>AFG</td>\n",
       "      <td>Afghanistan</td>\n",
       "      <td>2008</td>\n",
       "      <td>8</td>\n",
       "      <td>-</td>\n",
       "      <td>Weather related</td>\n",
       "      <td>Flood</td>\n",
       "      <td>180</td>\n",
       "    </tr>\n",
       "    <tr>\n",
       "      <td>4</td>\n",
       "      <td>AFG</td>\n",
       "      <td>Afghanistan</td>\n",
       "      <td>2008</td>\n",
       "      <td>4</td>\n",
       "      <td>-</td>\n",
       "      <td>Geophysical</td>\n",
       "      <td>Earthquake</td>\n",
       "      <td>3250</td>\n",
       "    </tr>\n",
       "    <tr>\n",
       "      <td>5</td>\n",
       "      <td>AFG</td>\n",
       "      <td>Afghanistan</td>\n",
       "      <td>2009</td>\n",
       "      <td>1</td>\n",
       "      <td>-</td>\n",
       "      <td>Weather related</td>\n",
       "      <td>Flood</td>\n",
       "      <td>25185</td>\n",
       "    </tr>\n",
       "  </tbody>\n",
       "</table>\n",
       "</div>"
      ],
      "text/plain": [
       "  iso3      country  year  month              event_country  hazard_category  \\\n",
       "1  AB9   Abyei Area  2018      7  Abyie: Flood - 01/07/2018  Weather related   \n",
       "2  AFG  Afghanistan  2008      1                          -  Weather related   \n",
       "3  AFG  Afghanistan  2008      8                          -  Weather related   \n",
       "4  AFG  Afghanistan  2008      4                          -      Geophysical   \n",
       "5  AFG  Afghanistan  2009      1                          -  Weather related   \n",
       "\n",
       "           hazard_type  affected  \n",
       "1                Flood         2  \n",
       "2  Extreme temperature         0  \n",
       "3                Flood       180  \n",
       "4           Earthquake      3250  \n",
       "5                Flood     25185  "
      ]
     },
     "execution_count": 14,
     "metadata": {},
     "output_type": "execute_result"
    }
   ],
   "source": [
    "idp.head()"
   ]
  },
  {
   "cell_type": "markdown",
   "metadata": {},
   "source": [
    "Exploring the different categories in our dataset"
   ]
  },
  {
   "cell_type": "code",
   "execution_count": 15,
   "metadata": {},
   "outputs": [
    {
     "data": {
      "text/plain": [
       "Flood                      3086\n",
       "Storm                      1656\n",
       "Wet mass movement           526\n",
       "Wildfire                    512\n",
       "Earthquake                  327\n",
       "Extreme temperature          95\n",
       "Dry mass movement            93\n",
       "Volcanic eruption            73\n",
       "Mass movement                30\n",
       "Drought                      14\n",
       "Volcanic activity            13\n",
       "Wet Mass Movement             1\n",
       "Wet Mass movement             1\n",
       "Severe winter condition       1\n",
       "Name: hazard_type, dtype: int64"
      ]
     },
     "execution_count": 15,
     "metadata": {},
     "output_type": "execute_result"
    }
   ],
   "source": [
    "idp[\"hazard_type\"].value_counts()"
   ]
  },
  {
   "cell_type": "markdown",
   "metadata": {},
   "source": [
    "We observe same category with different names, we proceed to streamline that"
   ]
  },
  {
   "cell_type": "code",
   "execution_count": 16,
   "metadata": {
    "scrolled": true
   },
   "outputs": [
    {
     "data": {
      "text/plain": [
       "flood                      3086\n",
       "storm                      1656\n",
       "mass movement               651\n",
       "wildfire                    512\n",
       "earthquake                  327\n",
       "extreme temperature          95\n",
       "volcanic eruption            86\n",
       "drought                      14\n",
       "severe winter condition       1\n",
       "Name: hazard_type, dtype: int64"
      ]
     },
     "execution_count": 16,
     "metadata": {},
     "output_type": "execute_result"
    }
   ],
   "source": [
    "idp[\"hazard_type\"]=(idp[\"hazard_type\"]\n",
    "                    .str.lower()\n",
    "                    .str.replace(\"wet\",\"\")\n",
    "                    .str.replace(\"dry\",\"\")\n",
    "                    .str.replace(\"activity\",\"eruption\")\n",
    "                    .str.strip()\n",
    "                   )\n",
    "idp[\"hazard_type\"].value_counts()"
   ]
  },
  {
   "cell_type": "code",
   "execution_count": 17,
   "metadata": {},
   "outputs": [
    {
     "data": {
      "text/plain": [
       "Weather related    5914\n",
       "Geophysical         514\n",
       "Name: hazard_category, dtype: int64"
      ]
     },
     "execution_count": 17,
     "metadata": {},
     "output_type": "execute_result"
    }
   ],
   "source": [
    "idp[\"hazard_category\"].value_counts()"
   ]
  },
  {
   "cell_type": "markdown",
   "metadata": {},
   "source": [
    "#### Checking the name of the countries"
   ]
  },
  {
   "cell_type": "code",
   "execution_count": 18,
   "metadata": {},
   "outputs": [
    {
     "data": {
      "text/plain": [
       "array(['Abyei Area', 'Afghanistan', 'Angola', 'Anguilla', 'Albania',\n",
       "       'United Arab Emirates', 'Argentina', 'American Samoa',\n",
       "       'Antigua and Barbuda', 'Australia', 'Austria', 'Azerbaijan',\n",
       "       'Burundi', 'Belgium', 'Benin', 'Burkina Faso', 'Bangladesh',\n",
       "       'Bulgaria', 'Bahamas, The', 'Bahamas', 'Bosnia and Herzegovina',\n",
       "       'Belize', 'Bolivia', 'Brazil', 'Barbados', 'Brunei Darussalam',\n",
       "       'Brunei', 'Bhutan', 'Botswana', 'Central African Republic',\n",
       "       'Canada', 'Switzerland', 'Chile', 'China', \"Côte d'Ivoire\",\n",
       "       'Cameroon', 'Congo, Dem. Rep.', 'Dem. Rep. Congo', 'Ukraine',\n",
       "       'Colombia', 'Comoros', 'Cabo Verde', 'Costa Rica', 'Cuba',\n",
       "       'Cayman Islands', 'Cyprus', 'Czech Republic', 'Germany',\n",
       "       'Djibouti', 'Dominica', 'Dominican Republic', 'Algeria', 'Ecuador',\n",
       "       'Egypt, Arab Rep.', 'Egypt', 'Eritrea', 'Spain', 'Ethiopia',\n",
       "       'Finland', 'Fiji', 'France', 'Micronesia, Fed. Sts.', 'Gabon',\n",
       "       'United Kingdom', 'Georgia', 'Ghana', 'Guinea', 'Gambia, The',\n",
       "       'Gambia', 'Guinea-Bissau', 'Greece', 'Grenada', 'Greenland',\n",
       "       'Guatemala', 'Guam', 'Guyana', 'Hong Kong SAR, China',\n",
       "       'Hong Kong, China', 'Honduras', 'Croatia', 'Haiti', 'Hungary',\n",
       "       'Indonesia', 'India', 'Ireland', 'Iran, Islamic Rep.', 'Iran',\n",
       "       'Iraq', 'Iceland', 'Israel', 'Italy', 'Jamaica', 'Jordan', 'Japan',\n",
       "       'Kazakhstan', 'Kenya', 'Kyrgyz Republic', 'Kyrgyzstan', 'Cambodia',\n",
       "       'Kiribati', 'St. Kitts and Nevis', 'Korea, Rep.', 'Korea',\n",
       "       'Lao PDR', 'Lebanon', 'Liberia', 'Libya', 'St. Lucia', 'Sri Lanka',\n",
       "       'Lesotho', 'Lithuania', 'Latvia', 'Macao, China',\n",
       "       'St. Martin (French part)', 'Morocco', 'Moldova', 'Madagascar',\n",
       "       'Maldives', 'Mexico', 'Marshall Islands', 'Macedonia, FYR',\n",
       "       'Macedonia', 'Mali', 'Myanmar', 'Montenegro', 'Mongolia',\n",
       "       'Northern Mariana Islands', 'Mozambique', 'Mauritania',\n",
       "       'Mauritius', 'Malawi', 'Malaysia', 'Namibia', 'New Caledonia',\n",
       "       'Niger', 'Nigeria', 'Nicaragua', 'Norway', 'Nepal', 'New Zealand',\n",
       "       'Oman', 'Pakistan', 'Panama', 'Peru', 'Philippines', 'Palau',\n",
       "       'Papua New Guinea', 'Poland', 'Puerto Rico', 'Korea, Dem. Rep.',\n",
       "       \"Dem. People's Rep. Korea\", 'Portugal', 'Paraguay',\n",
       "       'West Bank and Gaza', 'Palestine', 'French Polynesia', 'Romania',\n",
       "       'Russian Federation', 'Russia', 'Rwanda', 'Saudi Arabia', 'Sudan',\n",
       "       'Senegal', 'Solomon Islands', 'Sierra Leone', 'El Salvador',\n",
       "       'Somalia', 'Serbia', 'South Sudan', 'Suriname', 'Slovak Republic',\n",
       "       'Slovakia', 'Slovenia', 'Sweden', 'Eswatini',\n",
       "       'Sint Maarten (Dutch part)', 'Seychelles', 'Syrian Arab Republic',\n",
       "       'Syria', 'Turks and Caicos Islands', 'Chad', 'Togo', 'Thailand',\n",
       "       'Tajikistan', 'Timor-Leste', 'Tonga', 'Trinidad and Tobago',\n",
       "       'Tunisia', 'Turkey', 'Tuvalu', 'Taiwan, China', 'Tanzania',\n",
       "       'Uganda', 'Uruguay', 'United States', 'Uzbekistan',\n",
       "       'St. Vincent and the Grenadines', 'Venezuela, RB', 'Venezuela',\n",
       "       'British Virgin Islands', 'Virgin Islands', 'Vietnam', 'Viet Nam',\n",
       "       'Vanuatu', 'Samoa', 'Kosovo', 'Yemen, Rep.', 'Yemen',\n",
       "       'South Africa', 'Zambia', 'Zimbabwe'], dtype=object)"
      ]
     },
     "execution_count": 18,
     "metadata": {},
     "output_type": "execute_result"
    }
   ],
   "source": [
    "idp[\"country\"].unique()"
   ]
  },
  {
   "cell_type": "markdown",
   "metadata": {},
   "source": [
    "#### We observe that there are wrong country names, or not streamlined. We that now"
   ]
  },
  {
   "cell_type": "code",
   "execution_count": 19,
   "metadata": {},
   "outputs": [],
   "source": [
    "to_change_country={'Bahamas, The':'Bahamas',\n",
    "                   'Brunei Darussalam':'Brunei',\n",
    "                   'Congo, Dem. Rep.':'Dem. Rep. Congo',\n",
    "                   'Egypt, Arab Rep.':'Egypt',\n",
    "                   'Micronesia, Fed. Sts.':'Micronesia',\n",
    "                   'Gambia, The':'Gambia',\n",
    "                   'Hong Kong SAR, China':'Hong Kong',\n",
    "                   'Hong Kong, China':'Hong Kong',\n",
    "                   'Iran, Islamic Rep.':'Iran',\n",
    "                   'Kyrgyz Republic':'Kyrgyzstan',\n",
    "                   'Korea, Rep.':'South Korea',\n",
    "                   'St. Martin (French part)':'St. Martin',\n",
    "                   'Sint Maarten (Dutch part)':'St. Martin',\n",
    "                   'Macedonia, FYR':'Macedonia',\n",
    "                   'Korea, Dem. Rep.':'North Korea',\n",
    "                   \"Dem. People's Rep. Korea\":\"North Korea\",\n",
    "                   'West Bank and Gaza':'Palestine',\n",
    "                   'Russian Federation':'Russia',\n",
    "                   'Slovak Republic':'Slovakia',\n",
    "                   'Syrian Arab Republic':'Syria',\n",
    "                   'Taiwan, China':\"Taiwan\",\n",
    "                   'Venezuela, RB':'Venezuela',\n",
    "                   'Viet Nam':'Vietnam',\n",
    "                   'British Virgin Islands':'Virgin Islands',\n",
    "                   'Yemen, Rep.':'Yemen'\n",
    "                  }"
   ]
  },
  {
   "cell_type": "code",
   "execution_count": 20,
   "metadata": {},
   "outputs": [],
   "source": [
    "idp.replace({\"country\": to_change_country},inplace=True)"
   ]
  },
  {
   "cell_type": "markdown",
   "metadata": {},
   "source": [
    "#### Check that it worked"
   ]
  },
  {
   "cell_type": "code",
   "execution_count": 21,
   "metadata": {},
   "outputs": [
    {
     "data": {
      "text/plain": [
       "array(['Abyei Area', 'Afghanistan', 'Angola', 'Anguilla', 'Albania',\n",
       "       'United Arab Emirates', 'Argentina', 'American Samoa',\n",
       "       'Antigua and Barbuda', 'Australia', 'Austria', 'Azerbaijan',\n",
       "       'Burundi', 'Belgium', 'Benin', 'Burkina Faso', 'Bangladesh',\n",
       "       'Bulgaria', 'Bahamas', 'Bosnia and Herzegovina', 'Belize',\n",
       "       'Bolivia', 'Brazil', 'Barbados', 'Brunei', 'Bhutan', 'Botswana',\n",
       "       'Central African Republic', 'Canada', 'Switzerland', 'Chile',\n",
       "       'China', \"Côte d'Ivoire\", 'Cameroon', 'Dem. Rep. Congo', 'Ukraine',\n",
       "       'Colombia', 'Comoros', 'Cabo Verde', 'Costa Rica', 'Cuba',\n",
       "       'Cayman Islands', 'Cyprus', 'Czech Republic', 'Germany',\n",
       "       'Djibouti', 'Dominica', 'Dominican Republic', 'Algeria', 'Ecuador',\n",
       "       'Egypt', 'Eritrea', 'Spain', 'Ethiopia', 'Finland', 'Fiji',\n",
       "       'France', 'Micronesia', 'Gabon', 'United Kingdom', 'Georgia',\n",
       "       'Ghana', 'Guinea', 'Gambia', 'Guinea-Bissau', 'Greece', 'Grenada',\n",
       "       'Greenland', 'Guatemala', 'Guam', 'Guyana', 'Hong Kong',\n",
       "       'Honduras', 'Croatia', 'Haiti', 'Hungary', 'Indonesia', 'India',\n",
       "       'Ireland', 'Iran', 'Iraq', 'Iceland', 'Israel', 'Italy', 'Jamaica',\n",
       "       'Jordan', 'Japan', 'Kazakhstan', 'Kenya', 'Kyrgyzstan', 'Cambodia',\n",
       "       'Kiribati', 'St. Kitts and Nevis', 'South Korea', 'Korea',\n",
       "       'Lao PDR', 'Lebanon', 'Liberia', 'Libya', 'St. Lucia', 'Sri Lanka',\n",
       "       'Lesotho', 'Lithuania', 'Latvia', 'Macao, China', 'St. Martin',\n",
       "       'Morocco', 'Moldova', 'Madagascar', 'Maldives', 'Mexico',\n",
       "       'Marshall Islands', 'Macedonia', 'Mali', 'Myanmar', 'Montenegro',\n",
       "       'Mongolia', 'Northern Mariana Islands', 'Mozambique', 'Mauritania',\n",
       "       'Mauritius', 'Malawi', 'Malaysia', 'Namibia', 'New Caledonia',\n",
       "       'Niger', 'Nigeria', 'Nicaragua', 'Norway', 'Nepal', 'New Zealand',\n",
       "       'Oman', 'Pakistan', 'Panama', 'Peru', 'Philippines', 'Palau',\n",
       "       'Papua New Guinea', 'Poland', 'Puerto Rico', 'North Korea',\n",
       "       'Portugal', 'Paraguay', 'Palestine', 'French Polynesia', 'Romania',\n",
       "       'Russia', 'Rwanda', 'Saudi Arabia', 'Sudan', 'Senegal',\n",
       "       'Solomon Islands', 'Sierra Leone', 'El Salvador', 'Somalia',\n",
       "       'Serbia', 'South Sudan', 'Suriname', 'Slovakia', 'Slovenia',\n",
       "       'Sweden', 'Eswatini', 'Seychelles', 'Syria',\n",
       "       'Turks and Caicos Islands', 'Chad', 'Togo', 'Thailand',\n",
       "       'Tajikistan', 'Timor-Leste', 'Tonga', 'Trinidad and Tobago',\n",
       "       'Tunisia', 'Turkey', 'Tuvalu', 'Taiwan', 'Tanzania', 'Uganda',\n",
       "       'Uruguay', 'United States', 'Uzbekistan',\n",
       "       'St. Vincent and the Grenadines', 'Venezuela', 'Virgin Islands',\n",
       "       'Vietnam', 'Vanuatu', 'Samoa', 'Kosovo', 'Yemen', 'South Africa',\n",
       "       'Zambia', 'Zimbabwe'], dtype=object)"
      ]
     },
     "execution_count": 21,
     "metadata": {},
     "output_type": "execute_result"
    }
   ],
   "source": [
    "idp[\"country\"].unique()"
   ]
  },
  {
   "cell_type": "markdown",
   "metadata": {},
   "source": [
    "### Getting the continents from the country code"
   ]
  },
  {
   "cell_type": "code",
   "execution_count": 22,
   "metadata": {},
   "outputs": [],
   "source": [
    "idp=idp.assign(continent=idp[\"iso3\"].apply(lambda x: continent(x)))"
   ]
  },
  {
   "cell_type": "code",
   "execution_count": 23,
   "metadata": {},
   "outputs": [
    {
     "data": {
      "text/html": [
       "<div>\n",
       "<style scoped>\n",
       "    .dataframe tbody tr th:only-of-type {\n",
       "        vertical-align: middle;\n",
       "    }\n",
       "\n",
       "    .dataframe tbody tr th {\n",
       "        vertical-align: top;\n",
       "    }\n",
       "\n",
       "    .dataframe thead th {\n",
       "        text-align: right;\n",
       "    }\n",
       "</style>\n",
       "<table border=\"1\" class=\"dataframe\">\n",
       "  <thead>\n",
       "    <tr style=\"text-align: right;\">\n",
       "      <th></th>\n",
       "      <th>iso3</th>\n",
       "      <th>country</th>\n",
       "      <th>year</th>\n",
       "      <th>month</th>\n",
       "      <th>event_country</th>\n",
       "      <th>hazard_category</th>\n",
       "      <th>hazard_type</th>\n",
       "      <th>affected</th>\n",
       "      <th>continent</th>\n",
       "    </tr>\n",
       "  </thead>\n",
       "  <tbody>\n",
       "    <tr>\n",
       "      <td>1</td>\n",
       "      <td>AB9</td>\n",
       "      <td>Abyei Area</td>\n",
       "      <td>2018</td>\n",
       "      <td>7</td>\n",
       "      <td>Abyie: Flood - 01/07/2018</td>\n",
       "      <td>Weather related</td>\n",
       "      <td>flood</td>\n",
       "      <td>2</td>\n",
       "      <td>no_continent</td>\n",
       "    </tr>\n",
       "    <tr>\n",
       "      <td>2</td>\n",
       "      <td>AFG</td>\n",
       "      <td>Afghanistan</td>\n",
       "      <td>2008</td>\n",
       "      <td>1</td>\n",
       "      <td>-</td>\n",
       "      <td>Weather related</td>\n",
       "      <td>extreme temperature</td>\n",
       "      <td>0</td>\n",
       "      <td>AS</td>\n",
       "    </tr>\n",
       "    <tr>\n",
       "      <td>3</td>\n",
       "      <td>AFG</td>\n",
       "      <td>Afghanistan</td>\n",
       "      <td>2008</td>\n",
       "      <td>8</td>\n",
       "      <td>-</td>\n",
       "      <td>Weather related</td>\n",
       "      <td>flood</td>\n",
       "      <td>180</td>\n",
       "      <td>AS</td>\n",
       "    </tr>\n",
       "    <tr>\n",
       "      <td>4</td>\n",
       "      <td>AFG</td>\n",
       "      <td>Afghanistan</td>\n",
       "      <td>2008</td>\n",
       "      <td>4</td>\n",
       "      <td>-</td>\n",
       "      <td>Geophysical</td>\n",
       "      <td>earthquake</td>\n",
       "      <td>3250</td>\n",
       "      <td>AS</td>\n",
       "    </tr>\n",
       "    <tr>\n",
       "      <td>5</td>\n",
       "      <td>AFG</td>\n",
       "      <td>Afghanistan</td>\n",
       "      <td>2009</td>\n",
       "      <td>1</td>\n",
       "      <td>-</td>\n",
       "      <td>Weather related</td>\n",
       "      <td>flood</td>\n",
       "      <td>25185</td>\n",
       "      <td>AS</td>\n",
       "    </tr>\n",
       "  </tbody>\n",
       "</table>\n",
       "</div>"
      ],
      "text/plain": [
       "  iso3      country  year  month              event_country  hazard_category  \\\n",
       "1  AB9   Abyei Area  2018      7  Abyie: Flood - 01/07/2018  Weather related   \n",
       "2  AFG  Afghanistan  2008      1                          -  Weather related   \n",
       "3  AFG  Afghanistan  2008      8                          -  Weather related   \n",
       "4  AFG  Afghanistan  2008      4                          -      Geophysical   \n",
       "5  AFG  Afghanistan  2009      1                          -  Weather related   \n",
       "\n",
       "           hazard_type  affected     continent  \n",
       "1                flood         2  no_continent  \n",
       "2  extreme temperature         0            AS  \n",
       "3                flood       180            AS  \n",
       "4           earthquake      3250            AS  \n",
       "5                flood     25185            AS  "
      ]
     },
     "execution_count": 23,
     "metadata": {},
     "output_type": "execute_result"
    }
   ],
   "source": [
    "idp.head()"
   ]
  },
  {
   "cell_type": "markdown",
   "metadata": {},
   "source": [
    "#### Now we have the dataset clean and ready to be merged"
   ]
  },
  {
   "cell_type": "markdown",
   "metadata": {},
   "source": [
    "# 2. Average temperature 1991-2016"
   ]
  },
  {
   "cell_type": "markdown",
   "metadata": {},
   "source": [
    "#### Loading the data"
   ]
  },
  {
   "cell_type": "code",
   "execution_count": 24,
   "metadata": {},
   "outputs": [],
   "source": [
    "avg_temp=pd.read_csv(\"input/avg_temp.csv\",sep=\",\")"
   ]
  },
  {
   "cell_type": "code",
   "execution_count": 25,
   "metadata": {},
   "outputs": [
    {
     "data": {
      "text/html": [
       "<div>\n",
       "<style scoped>\n",
       "    .dataframe tbody tr th:only-of-type {\n",
       "        vertical-align: middle;\n",
       "    }\n",
       "\n",
       "    .dataframe tbody tr th {\n",
       "        vertical-align: top;\n",
       "    }\n",
       "\n",
       "    .dataframe thead th {\n",
       "        text-align: right;\n",
       "    }\n",
       "</style>\n",
       "<table border=\"1\" class=\"dataframe\">\n",
       "  <thead>\n",
       "    <tr style=\"text-align: right;\">\n",
       "      <th></th>\n",
       "      <th>Temperature - (Celsius)</th>\n",
       "      <th>Year</th>\n",
       "      <th>Statistics</th>\n",
       "      <th>Country</th>\n",
       "      <th>ISO3</th>\n",
       "    </tr>\n",
       "  </thead>\n",
       "  <tbody>\n",
       "    <tr>\n",
       "      <td>0</td>\n",
       "      <td>11.1664</td>\n",
       "      <td>1991</td>\n",
       "      <td>Jan Average</td>\n",
       "      <td>Algeria</td>\n",
       "      <td>DZA</td>\n",
       "    </tr>\n",
       "    <tr>\n",
       "      <td>1</td>\n",
       "      <td>14.1740</td>\n",
       "      <td>1991</td>\n",
       "      <td>Feb Average</td>\n",
       "      <td>Algeria</td>\n",
       "      <td>DZA</td>\n",
       "    </tr>\n",
       "    <tr>\n",
       "      <td>2</td>\n",
       "      <td>18.5296</td>\n",
       "      <td>1991</td>\n",
       "      <td>Mar Average</td>\n",
       "      <td>Algeria</td>\n",
       "      <td>DZA</td>\n",
       "    </tr>\n",
       "    <tr>\n",
       "      <td>3</td>\n",
       "      <td>21.4247</td>\n",
       "      <td>1991</td>\n",
       "      <td>Apr Average</td>\n",
       "      <td>Algeria</td>\n",
       "      <td>DZA</td>\n",
       "    </tr>\n",
       "    <tr>\n",
       "      <td>4</td>\n",
       "      <td>24.9652</td>\n",
       "      <td>1991</td>\n",
       "      <td>May Average</td>\n",
       "      <td>Algeria</td>\n",
       "      <td>DZA</td>\n",
       "    </tr>\n",
       "  </tbody>\n",
       "</table>\n",
       "</div>"
      ],
      "text/plain": [
       "   Temperature - (Celsius)   Year    Statistics   Country  ISO3\n",
       "0                  11.1664   1991   Jan Average   Algeria   DZA\n",
       "1                  14.1740   1991   Feb Average   Algeria   DZA\n",
       "2                  18.5296   1991   Mar Average   Algeria   DZA\n",
       "3                  21.4247   1991   Apr Average   Algeria   DZA\n",
       "4                  24.9652   1991   May Average   Algeria   DZA"
      ]
     },
     "execution_count": 25,
     "metadata": {},
     "output_type": "execute_result"
    }
   ],
   "source": [
    "avg_temp.head()"
   ]
  },
  {
   "cell_type": "markdown",
   "metadata": {},
   "source": [
    "#### Renaming columns"
   ]
  },
  {
   "cell_type": "code",
   "execution_count": 26,
   "metadata": {},
   "outputs": [],
   "source": [
    "avg_temp.columns=(avg_temp.columns\n",
    "                  .str.strip()\n",
    "                  .str.lower()\n",
    "                  .str.replace(\" \",\"\")\n",
    "                  .str.replace(\"-\",\"\")\n",
    "                  .str.replace(\"(\",\"\")\n",
    "                  .str.replace(\")\",\"\")\n",
    "                  .str.replace(\"temperaturecelsius\",\"temp\")\n",
    "                  .str.replace(\"statistics\",\"month\")\n",
    "                 )"
   ]
  },
  {
   "cell_type": "markdown",
   "metadata": {},
   "source": [
    "Reordering column names"
   ]
  },
  {
   "cell_type": "code",
   "execution_count": 27,
   "metadata": {},
   "outputs": [
    {
     "data": {
      "text/plain": [
       "['iso3', 'country', 'year', 'month', 'temp']"
      ]
     },
     "execution_count": 27,
     "metadata": {},
     "output_type": "execute_result"
    }
   ],
   "source": [
    "cols=list(avg_temp.columns.values)\n",
    "new_cols=[]\n",
    "new_cols.append([cols[-1],cols[-2],cols[1],cols[2],cols[0]])\n",
    "new_cols=new_cols[0]\n",
    "new_cols"
   ]
  },
  {
   "cell_type": "code",
   "execution_count": 28,
   "metadata": {},
   "outputs": [
    {
     "data": {
      "text/html": [
       "<div>\n",
       "<style scoped>\n",
       "    .dataframe tbody tr th:only-of-type {\n",
       "        vertical-align: middle;\n",
       "    }\n",
       "\n",
       "    .dataframe tbody tr th {\n",
       "        vertical-align: top;\n",
       "    }\n",
       "\n",
       "    .dataframe thead th {\n",
       "        text-align: right;\n",
       "    }\n",
       "</style>\n",
       "<table border=\"1\" class=\"dataframe\">\n",
       "  <thead>\n",
       "    <tr style=\"text-align: right;\">\n",
       "      <th></th>\n",
       "      <th>iso3</th>\n",
       "      <th>country</th>\n",
       "      <th>year</th>\n",
       "      <th>month</th>\n",
       "      <th>temp</th>\n",
       "    </tr>\n",
       "  </thead>\n",
       "  <tbody>\n",
       "    <tr>\n",
       "      <td>0</td>\n",
       "      <td>DZA</td>\n",
       "      <td>Algeria</td>\n",
       "      <td>1991</td>\n",
       "      <td>Jan Average</td>\n",
       "      <td>11.1664</td>\n",
       "    </tr>\n",
       "    <tr>\n",
       "      <td>1</td>\n",
       "      <td>DZA</td>\n",
       "      <td>Algeria</td>\n",
       "      <td>1991</td>\n",
       "      <td>Feb Average</td>\n",
       "      <td>14.1740</td>\n",
       "    </tr>\n",
       "    <tr>\n",
       "      <td>2</td>\n",
       "      <td>DZA</td>\n",
       "      <td>Algeria</td>\n",
       "      <td>1991</td>\n",
       "      <td>Mar Average</td>\n",
       "      <td>18.5296</td>\n",
       "    </tr>\n",
       "    <tr>\n",
       "      <td>3</td>\n",
       "      <td>DZA</td>\n",
       "      <td>Algeria</td>\n",
       "      <td>1991</td>\n",
       "      <td>Apr Average</td>\n",
       "      <td>21.4247</td>\n",
       "    </tr>\n",
       "    <tr>\n",
       "      <td>4</td>\n",
       "      <td>DZA</td>\n",
       "      <td>Algeria</td>\n",
       "      <td>1991</td>\n",
       "      <td>May Average</td>\n",
       "      <td>24.9652</td>\n",
       "    </tr>\n",
       "  </tbody>\n",
       "</table>\n",
       "</div>"
      ],
      "text/plain": [
       "   iso3   country  year         month     temp\n",
       "0   DZA   Algeria  1991   Jan Average  11.1664\n",
       "1   DZA   Algeria  1991   Feb Average  14.1740\n",
       "2   DZA   Algeria  1991   Mar Average  18.5296\n",
       "3   DZA   Algeria  1991   Apr Average  21.4247\n",
       "4   DZA   Algeria  1991   May Average  24.9652"
      ]
     },
     "execution_count": 28,
     "metadata": {},
     "output_type": "execute_result"
    }
   ],
   "source": [
    "avg_temp=avg_temp[new_cols]\n",
    "avg_temp.head()"
   ]
  },
  {
   "cell_type": "markdown",
   "metadata": {},
   "source": [
    "#### Checking types"
   ]
  },
  {
   "cell_type": "code",
   "execution_count": 29,
   "metadata": {
    "scrolled": true
   },
   "outputs": [
    {
     "data": {
      "text/plain": [
       "iso3        object\n",
       "country     object\n",
       "year         int64\n",
       "month       object\n",
       "temp       float64\n",
       "dtype: object"
      ]
     },
     "execution_count": 29,
     "metadata": {},
     "output_type": "execute_result"
    }
   ],
   "source": [
    "avg_temp.dtypes"
   ]
  },
  {
   "cell_type": "markdown",
   "metadata": {},
   "source": [
    "We need to get the month column just with the month number"
   ]
  },
  {
   "cell_type": "code",
   "execution_count": 30,
   "metadata": {},
   "outputs": [],
   "source": [
    "avg_temp[\"month\"]=avg_temp[\"month\"].str.split().str[0]"
   ]
  },
  {
   "cell_type": "code",
   "execution_count": 31,
   "metadata": {},
   "outputs": [
    {
     "data": {
      "text/html": [
       "<div>\n",
       "<style scoped>\n",
       "    .dataframe tbody tr th:only-of-type {\n",
       "        vertical-align: middle;\n",
       "    }\n",
       "\n",
       "    .dataframe tbody tr th {\n",
       "        vertical-align: top;\n",
       "    }\n",
       "\n",
       "    .dataframe thead th {\n",
       "        text-align: right;\n",
       "    }\n",
       "</style>\n",
       "<table border=\"1\" class=\"dataframe\">\n",
       "  <thead>\n",
       "    <tr style=\"text-align: right;\">\n",
       "      <th></th>\n",
       "      <th>iso3</th>\n",
       "      <th>country</th>\n",
       "      <th>year</th>\n",
       "      <th>month</th>\n",
       "      <th>temp</th>\n",
       "    </tr>\n",
       "  </thead>\n",
       "  <tbody>\n",
       "    <tr>\n",
       "      <td>0</td>\n",
       "      <td>DZA</td>\n",
       "      <td>Algeria</td>\n",
       "      <td>1991</td>\n",
       "      <td>Jan</td>\n",
       "      <td>11.1664</td>\n",
       "    </tr>\n",
       "    <tr>\n",
       "      <td>1</td>\n",
       "      <td>DZA</td>\n",
       "      <td>Algeria</td>\n",
       "      <td>1991</td>\n",
       "      <td>Feb</td>\n",
       "      <td>14.1740</td>\n",
       "    </tr>\n",
       "    <tr>\n",
       "      <td>2</td>\n",
       "      <td>DZA</td>\n",
       "      <td>Algeria</td>\n",
       "      <td>1991</td>\n",
       "      <td>Mar</td>\n",
       "      <td>18.5296</td>\n",
       "    </tr>\n",
       "    <tr>\n",
       "      <td>3</td>\n",
       "      <td>DZA</td>\n",
       "      <td>Algeria</td>\n",
       "      <td>1991</td>\n",
       "      <td>Apr</td>\n",
       "      <td>21.4247</td>\n",
       "    </tr>\n",
       "    <tr>\n",
       "      <td>4</td>\n",
       "      <td>DZA</td>\n",
       "      <td>Algeria</td>\n",
       "      <td>1991</td>\n",
       "      <td>May</td>\n",
       "      <td>24.9652</td>\n",
       "    </tr>\n",
       "  </tbody>\n",
       "</table>\n",
       "</div>"
      ],
      "text/plain": [
       "   iso3   country  year month     temp\n",
       "0   DZA   Algeria  1991   Jan  11.1664\n",
       "1   DZA   Algeria  1991   Feb  14.1740\n",
       "2   DZA   Algeria  1991   Mar  18.5296\n",
       "3   DZA   Algeria  1991   Apr  21.4247\n",
       "4   DZA   Algeria  1991   May  24.9652"
      ]
     },
     "execution_count": 31,
     "metadata": {},
     "output_type": "execute_result"
    }
   ],
   "source": [
    "avg_temp.head()"
   ]
  },
  {
   "cell_type": "code",
   "execution_count": 32,
   "metadata": {},
   "outputs": [],
   "source": [
    "avg_temp[\"month\"]=pd.to_datetime(avg_temp[\"month\"],format=\"%b\").dt.month"
   ]
  },
  {
   "cell_type": "code",
   "execution_count": 33,
   "metadata": {},
   "outputs": [
    {
     "data": {
      "text/html": [
       "<div>\n",
       "<style scoped>\n",
       "    .dataframe tbody tr th:only-of-type {\n",
       "        vertical-align: middle;\n",
       "    }\n",
       "\n",
       "    .dataframe tbody tr th {\n",
       "        vertical-align: top;\n",
       "    }\n",
       "\n",
       "    .dataframe thead th {\n",
       "        text-align: right;\n",
       "    }\n",
       "</style>\n",
       "<table border=\"1\" class=\"dataframe\">\n",
       "  <thead>\n",
       "    <tr style=\"text-align: right;\">\n",
       "      <th></th>\n",
       "      <th>iso3</th>\n",
       "      <th>country</th>\n",
       "      <th>year</th>\n",
       "      <th>month</th>\n",
       "      <th>temp</th>\n",
       "    </tr>\n",
       "  </thead>\n",
       "  <tbody>\n",
       "    <tr>\n",
       "      <td>0</td>\n",
       "      <td>DZA</td>\n",
       "      <td>Algeria</td>\n",
       "      <td>1991</td>\n",
       "      <td>1</td>\n",
       "      <td>11.1664</td>\n",
       "    </tr>\n",
       "    <tr>\n",
       "      <td>1</td>\n",
       "      <td>DZA</td>\n",
       "      <td>Algeria</td>\n",
       "      <td>1991</td>\n",
       "      <td>2</td>\n",
       "      <td>14.1740</td>\n",
       "    </tr>\n",
       "    <tr>\n",
       "      <td>2</td>\n",
       "      <td>DZA</td>\n",
       "      <td>Algeria</td>\n",
       "      <td>1991</td>\n",
       "      <td>3</td>\n",
       "      <td>18.5296</td>\n",
       "    </tr>\n",
       "    <tr>\n",
       "      <td>3</td>\n",
       "      <td>DZA</td>\n",
       "      <td>Algeria</td>\n",
       "      <td>1991</td>\n",
       "      <td>4</td>\n",
       "      <td>21.4247</td>\n",
       "    </tr>\n",
       "    <tr>\n",
       "      <td>4</td>\n",
       "      <td>DZA</td>\n",
       "      <td>Algeria</td>\n",
       "      <td>1991</td>\n",
       "      <td>5</td>\n",
       "      <td>24.9652</td>\n",
       "    </tr>\n",
       "  </tbody>\n",
       "</table>\n",
       "</div>"
      ],
      "text/plain": [
       "   iso3   country  year  month     temp\n",
       "0   DZA   Algeria  1991      1  11.1664\n",
       "1   DZA   Algeria  1991      2  14.1740\n",
       "2   DZA   Algeria  1991      3  18.5296\n",
       "3   DZA   Algeria  1991      4  21.4247\n",
       "4   DZA   Algeria  1991      5  24.9652"
      ]
     },
     "execution_count": 33,
     "metadata": {},
     "output_type": "execute_result"
    }
   ],
   "source": [
    "avg_temp.head()"
   ]
  },
  {
   "cell_type": "markdown",
   "metadata": {},
   "source": [
    "#### Taking out the space before the country"
   ]
  },
  {
   "cell_type": "code",
   "execution_count": 34,
   "metadata": {},
   "outputs": [],
   "source": [
    "avg_temp[\"country\"]=avg_temp[\"country\"].str.strip()\n",
    "avg_temp[\"iso3\"]=avg_temp[\"iso3\"].str.strip()"
   ]
  },
  {
   "cell_type": "markdown",
   "metadata": {},
   "source": [
    "#### Now the dataset is ready to be merged."
   ]
  },
  {
   "cell_type": "markdown",
   "metadata": {},
   "source": [
    "# 3. Merging idp and average temperatures dataframes"
   ]
  },
  {
   "cell_type": "markdown",
   "metadata": {},
   "source": [
    "#### Having a look to both dfs"
   ]
  },
  {
   "cell_type": "code",
   "execution_count": 35,
   "metadata": {},
   "outputs": [
    {
     "data": {
      "text/plain": [
       "(6431, 9)"
      ]
     },
     "execution_count": 35,
     "metadata": {},
     "output_type": "execute_result"
    }
   ],
   "source": [
    "idp.shape"
   ]
  },
  {
   "cell_type": "code",
   "execution_count": 36,
   "metadata": {},
   "outputs": [
    {
     "data": {
      "text/html": [
       "<div>\n",
       "<style scoped>\n",
       "    .dataframe tbody tr th:only-of-type {\n",
       "        vertical-align: middle;\n",
       "    }\n",
       "\n",
       "    .dataframe tbody tr th {\n",
       "        vertical-align: top;\n",
       "    }\n",
       "\n",
       "    .dataframe thead th {\n",
       "        text-align: right;\n",
       "    }\n",
       "</style>\n",
       "<table border=\"1\" class=\"dataframe\">\n",
       "  <thead>\n",
       "    <tr style=\"text-align: right;\">\n",
       "      <th></th>\n",
       "      <th>iso3</th>\n",
       "      <th>country</th>\n",
       "      <th>year</th>\n",
       "      <th>month</th>\n",
       "      <th>event_country</th>\n",
       "      <th>hazard_category</th>\n",
       "      <th>hazard_type</th>\n",
       "      <th>affected</th>\n",
       "      <th>continent</th>\n",
       "    </tr>\n",
       "  </thead>\n",
       "  <tbody>\n",
       "    <tr>\n",
       "      <td>1</td>\n",
       "      <td>AB9</td>\n",
       "      <td>Abyei Area</td>\n",
       "      <td>2018</td>\n",
       "      <td>7</td>\n",
       "      <td>Abyie: Flood - 01/07/2018</td>\n",
       "      <td>Weather related</td>\n",
       "      <td>flood</td>\n",
       "      <td>2</td>\n",
       "      <td>no_continent</td>\n",
       "    </tr>\n",
       "    <tr>\n",
       "      <td>2</td>\n",
       "      <td>AFG</td>\n",
       "      <td>Afghanistan</td>\n",
       "      <td>2008</td>\n",
       "      <td>1</td>\n",
       "      <td>-</td>\n",
       "      <td>Weather related</td>\n",
       "      <td>extreme temperature</td>\n",
       "      <td>0</td>\n",
       "      <td>AS</td>\n",
       "    </tr>\n",
       "    <tr>\n",
       "      <td>3</td>\n",
       "      <td>AFG</td>\n",
       "      <td>Afghanistan</td>\n",
       "      <td>2008</td>\n",
       "      <td>8</td>\n",
       "      <td>-</td>\n",
       "      <td>Weather related</td>\n",
       "      <td>flood</td>\n",
       "      <td>180</td>\n",
       "      <td>AS</td>\n",
       "    </tr>\n",
       "    <tr>\n",
       "      <td>4</td>\n",
       "      <td>AFG</td>\n",
       "      <td>Afghanistan</td>\n",
       "      <td>2008</td>\n",
       "      <td>4</td>\n",
       "      <td>-</td>\n",
       "      <td>Geophysical</td>\n",
       "      <td>earthquake</td>\n",
       "      <td>3250</td>\n",
       "      <td>AS</td>\n",
       "    </tr>\n",
       "    <tr>\n",
       "      <td>5</td>\n",
       "      <td>AFG</td>\n",
       "      <td>Afghanistan</td>\n",
       "      <td>2009</td>\n",
       "      <td>1</td>\n",
       "      <td>-</td>\n",
       "      <td>Weather related</td>\n",
       "      <td>flood</td>\n",
       "      <td>25185</td>\n",
       "      <td>AS</td>\n",
       "    </tr>\n",
       "  </tbody>\n",
       "</table>\n",
       "</div>"
      ],
      "text/plain": [
       "  iso3      country  year  month              event_country  hazard_category  \\\n",
       "1  AB9   Abyei Area  2018      7  Abyie: Flood - 01/07/2018  Weather related   \n",
       "2  AFG  Afghanistan  2008      1                          -  Weather related   \n",
       "3  AFG  Afghanistan  2008      8                          -  Weather related   \n",
       "4  AFG  Afghanistan  2008      4                          -      Geophysical   \n",
       "5  AFG  Afghanistan  2009      1                          -  Weather related   \n",
       "\n",
       "           hazard_type  affected     continent  \n",
       "1                flood         2  no_continent  \n",
       "2  extreme temperature         0            AS  \n",
       "3                flood       180            AS  \n",
       "4           earthquake      3250            AS  \n",
       "5                flood     25185            AS  "
      ]
     },
     "execution_count": 36,
     "metadata": {},
     "output_type": "execute_result"
    }
   ],
   "source": [
    "idp.head()"
   ]
  },
  {
   "cell_type": "code",
   "execution_count": 37,
   "metadata": {},
   "outputs": [
    {
     "data": {
      "text/plain": [
       "(40872, 5)"
      ]
     },
     "execution_count": 37,
     "metadata": {},
     "output_type": "execute_result"
    }
   ],
   "source": [
    "avg_temp.shape"
   ]
  },
  {
   "cell_type": "code",
   "execution_count": 38,
   "metadata": {},
   "outputs": [
    {
     "data": {
      "text/html": [
       "<div>\n",
       "<style scoped>\n",
       "    .dataframe tbody tr th:only-of-type {\n",
       "        vertical-align: middle;\n",
       "    }\n",
       "\n",
       "    .dataframe tbody tr th {\n",
       "        vertical-align: top;\n",
       "    }\n",
       "\n",
       "    .dataframe thead th {\n",
       "        text-align: right;\n",
       "    }\n",
       "</style>\n",
       "<table border=\"1\" class=\"dataframe\">\n",
       "  <thead>\n",
       "    <tr style=\"text-align: right;\">\n",
       "      <th></th>\n",
       "      <th>iso3</th>\n",
       "      <th>country</th>\n",
       "      <th>year</th>\n",
       "      <th>month</th>\n",
       "      <th>temp</th>\n",
       "    </tr>\n",
       "  </thead>\n",
       "  <tbody>\n",
       "    <tr>\n",
       "      <td>0</td>\n",
       "      <td>DZA</td>\n",
       "      <td>Algeria</td>\n",
       "      <td>1991</td>\n",
       "      <td>1</td>\n",
       "      <td>11.1664</td>\n",
       "    </tr>\n",
       "    <tr>\n",
       "      <td>1</td>\n",
       "      <td>DZA</td>\n",
       "      <td>Algeria</td>\n",
       "      <td>1991</td>\n",
       "      <td>2</td>\n",
       "      <td>14.1740</td>\n",
       "    </tr>\n",
       "    <tr>\n",
       "      <td>2</td>\n",
       "      <td>DZA</td>\n",
       "      <td>Algeria</td>\n",
       "      <td>1991</td>\n",
       "      <td>3</td>\n",
       "      <td>18.5296</td>\n",
       "    </tr>\n",
       "    <tr>\n",
       "      <td>3</td>\n",
       "      <td>DZA</td>\n",
       "      <td>Algeria</td>\n",
       "      <td>1991</td>\n",
       "      <td>4</td>\n",
       "      <td>21.4247</td>\n",
       "    </tr>\n",
       "    <tr>\n",
       "      <td>4</td>\n",
       "      <td>DZA</td>\n",
       "      <td>Algeria</td>\n",
       "      <td>1991</td>\n",
       "      <td>5</td>\n",
       "      <td>24.9652</td>\n",
       "    </tr>\n",
       "  </tbody>\n",
       "</table>\n",
       "</div>"
      ],
      "text/plain": [
       "  iso3  country  year  month     temp\n",
       "0  DZA  Algeria  1991      1  11.1664\n",
       "1  DZA  Algeria  1991      2  14.1740\n",
       "2  DZA  Algeria  1991      3  18.5296\n",
       "3  DZA  Algeria  1991      4  21.4247\n",
       "4  DZA  Algeria  1991      5  24.9652"
      ]
     },
     "execution_count": 38,
     "metadata": {},
     "output_type": "execute_result"
    }
   ],
   "source": [
    "avg_temp.head()"
   ]
  },
  {
   "cell_type": "markdown",
   "metadata": {},
   "source": [
    "#### Merging them"
   ]
  },
  {
   "cell_type": "code",
   "execution_count": 39,
   "metadata": {},
   "outputs": [
    {
     "data": {
      "text/html": [
       "<div>\n",
       "<style scoped>\n",
       "    .dataframe tbody tr th:only-of-type {\n",
       "        vertical-align: middle;\n",
       "    }\n",
       "\n",
       "    .dataframe tbody tr th {\n",
       "        vertical-align: top;\n",
       "    }\n",
       "\n",
       "    .dataframe thead th {\n",
       "        text-align: right;\n",
       "    }\n",
       "</style>\n",
       "<table border=\"1\" class=\"dataframe\">\n",
       "  <thead>\n",
       "    <tr style=\"text-align: right;\">\n",
       "      <th></th>\n",
       "      <th>iso3</th>\n",
       "      <th>country_x</th>\n",
       "      <th>year</th>\n",
       "      <th>month</th>\n",
       "      <th>event_country</th>\n",
       "      <th>hazard_category</th>\n",
       "      <th>hazard_type</th>\n",
       "      <th>affected</th>\n",
       "      <th>continent</th>\n",
       "      <th>country_y</th>\n",
       "      <th>temp</th>\n",
       "    </tr>\n",
       "  </thead>\n",
       "  <tbody>\n",
       "    <tr>\n",
       "      <td>0</td>\n",
       "      <td>AB9</td>\n",
       "      <td>Abyei Area</td>\n",
       "      <td>2018</td>\n",
       "      <td>7</td>\n",
       "      <td>Abyie: Flood - 01/07/2018</td>\n",
       "      <td>Weather related</td>\n",
       "      <td>flood</td>\n",
       "      <td>2</td>\n",
       "      <td>no_continent</td>\n",
       "      <td>NaN</td>\n",
       "      <td>NaN</td>\n",
       "    </tr>\n",
       "    <tr>\n",
       "      <td>1</td>\n",
       "      <td>AFG</td>\n",
       "      <td>Afghanistan</td>\n",
       "      <td>2008</td>\n",
       "      <td>1</td>\n",
       "      <td>-</td>\n",
       "      <td>Weather related</td>\n",
       "      <td>extreme temperature</td>\n",
       "      <td>0</td>\n",
       "      <td>AS</td>\n",
       "      <td>NaN</td>\n",
       "      <td>NaN</td>\n",
       "    </tr>\n",
       "    <tr>\n",
       "      <td>2</td>\n",
       "      <td>AFG</td>\n",
       "      <td>Afghanistan</td>\n",
       "      <td>2008</td>\n",
       "      <td>8</td>\n",
       "      <td>-</td>\n",
       "      <td>Weather related</td>\n",
       "      <td>flood</td>\n",
       "      <td>180</td>\n",
       "      <td>AS</td>\n",
       "      <td>NaN</td>\n",
       "      <td>NaN</td>\n",
       "    </tr>\n",
       "    <tr>\n",
       "      <td>3</td>\n",
       "      <td>AFG</td>\n",
       "      <td>Afghanistan</td>\n",
       "      <td>2008</td>\n",
       "      <td>4</td>\n",
       "      <td>-</td>\n",
       "      <td>Geophysical</td>\n",
       "      <td>earthquake</td>\n",
       "      <td>3250</td>\n",
       "      <td>AS</td>\n",
       "      <td>NaN</td>\n",
       "      <td>NaN</td>\n",
       "    </tr>\n",
       "    <tr>\n",
       "      <td>4</td>\n",
       "      <td>AFG</td>\n",
       "      <td>Afghanistan</td>\n",
       "      <td>2009</td>\n",
       "      <td>1</td>\n",
       "      <td>-</td>\n",
       "      <td>Weather related</td>\n",
       "      <td>flood</td>\n",
       "      <td>25185</td>\n",
       "      <td>AS</td>\n",
       "      <td>NaN</td>\n",
       "      <td>NaN</td>\n",
       "    </tr>\n",
       "  </tbody>\n",
       "</table>\n",
       "</div>"
      ],
      "text/plain": [
       "  iso3    country_x  year  month              event_country  hazard_category  \\\n",
       "0  AB9   Abyei Area  2018      7  Abyie: Flood - 01/07/2018  Weather related   \n",
       "1  AFG  Afghanistan  2008      1                          -  Weather related   \n",
       "2  AFG  Afghanistan  2008      8                          -  Weather related   \n",
       "3  AFG  Afghanistan  2008      4                          -      Geophysical   \n",
       "4  AFG  Afghanistan  2009      1                          -  Weather related   \n",
       "\n",
       "           hazard_type  affected     continent country_y  temp  \n",
       "0                flood         2  no_continent       NaN   NaN  \n",
       "1  extreme temperature         0            AS       NaN   NaN  \n",
       "2                flood       180            AS       NaN   NaN  \n",
       "3           earthquake      3250            AS       NaN   NaN  \n",
       "4                flood     25185            AS       NaN   NaN  "
      ]
     },
     "execution_count": 39,
     "metadata": {},
     "output_type": "execute_result"
    }
   ],
   "source": [
    "merge=idp.merge(avg_temp,how=\"left\",on=[\"iso3\",\"year\",\"month\"])\n",
    "merge.head()"
   ]
  },
  {
   "cell_type": "markdown",
   "metadata": {},
   "source": [
    "**NOTE:** \n",
    "- The amount of NaNs is due to:\n",
    "    1. the non existence of data for 80 of the 211 countries in the idp df\n",
    "    2. the non existence of data for the years 2017 and 2018"
   ]
  },
  {
   "cell_type": "markdown",
   "metadata": {},
   "source": [
    "Deleting the country_y column and renaiming country_x to just country"
   ]
  },
  {
   "cell_type": "code",
   "execution_count": 40,
   "metadata": {},
   "outputs": [],
   "source": [
    "merge.drop(\"country_y\",axis=1,inplace=True)"
   ]
  },
  {
   "cell_type": "code",
   "execution_count": 41,
   "metadata": {},
   "outputs": [],
   "source": [
    "merge.columns=merge.columns.str.replace(\"country_x\",\"country\")"
   ]
  },
  {
   "cell_type": "code",
   "execution_count": 42,
   "metadata": {},
   "outputs": [
    {
     "data": {
      "text/html": [
       "<div>\n",
       "<style scoped>\n",
       "    .dataframe tbody tr th:only-of-type {\n",
       "        vertical-align: middle;\n",
       "    }\n",
       "\n",
       "    .dataframe tbody tr th {\n",
       "        vertical-align: top;\n",
       "    }\n",
       "\n",
       "    .dataframe thead th {\n",
       "        text-align: right;\n",
       "    }\n",
       "</style>\n",
       "<table border=\"1\" class=\"dataframe\">\n",
       "  <thead>\n",
       "    <tr style=\"text-align: right;\">\n",
       "      <th></th>\n",
       "      <th>iso3</th>\n",
       "      <th>country</th>\n",
       "      <th>year</th>\n",
       "      <th>month</th>\n",
       "      <th>event_country</th>\n",
       "      <th>hazard_category</th>\n",
       "      <th>hazard_type</th>\n",
       "      <th>affected</th>\n",
       "      <th>continent</th>\n",
       "      <th>temp</th>\n",
       "    </tr>\n",
       "  </thead>\n",
       "  <tbody>\n",
       "    <tr>\n",
       "      <td>0</td>\n",
       "      <td>AB9</td>\n",
       "      <td>Abyei Area</td>\n",
       "      <td>2018</td>\n",
       "      <td>7</td>\n",
       "      <td>Abyie: Flood - 01/07/2018</td>\n",
       "      <td>Weather related</td>\n",
       "      <td>flood</td>\n",
       "      <td>2</td>\n",
       "      <td>no_continent</td>\n",
       "      <td>NaN</td>\n",
       "    </tr>\n",
       "    <tr>\n",
       "      <td>1</td>\n",
       "      <td>AFG</td>\n",
       "      <td>Afghanistan</td>\n",
       "      <td>2008</td>\n",
       "      <td>1</td>\n",
       "      <td>-</td>\n",
       "      <td>Weather related</td>\n",
       "      <td>extreme temperature</td>\n",
       "      <td>0</td>\n",
       "      <td>AS</td>\n",
       "      <td>NaN</td>\n",
       "    </tr>\n",
       "    <tr>\n",
       "      <td>2</td>\n",
       "      <td>AFG</td>\n",
       "      <td>Afghanistan</td>\n",
       "      <td>2008</td>\n",
       "      <td>8</td>\n",
       "      <td>-</td>\n",
       "      <td>Weather related</td>\n",
       "      <td>flood</td>\n",
       "      <td>180</td>\n",
       "      <td>AS</td>\n",
       "      <td>NaN</td>\n",
       "    </tr>\n",
       "    <tr>\n",
       "      <td>3</td>\n",
       "      <td>AFG</td>\n",
       "      <td>Afghanistan</td>\n",
       "      <td>2008</td>\n",
       "      <td>4</td>\n",
       "      <td>-</td>\n",
       "      <td>Geophysical</td>\n",
       "      <td>earthquake</td>\n",
       "      <td>3250</td>\n",
       "      <td>AS</td>\n",
       "      <td>NaN</td>\n",
       "    </tr>\n",
       "    <tr>\n",
       "      <td>4</td>\n",
       "      <td>AFG</td>\n",
       "      <td>Afghanistan</td>\n",
       "      <td>2009</td>\n",
       "      <td>1</td>\n",
       "      <td>-</td>\n",
       "      <td>Weather related</td>\n",
       "      <td>flood</td>\n",
       "      <td>25185</td>\n",
       "      <td>AS</td>\n",
       "      <td>NaN</td>\n",
       "    </tr>\n",
       "  </tbody>\n",
       "</table>\n",
       "</div>"
      ],
      "text/plain": [
       "  iso3      country  year  month              event_country  hazard_category  \\\n",
       "0  AB9   Abyei Area  2018      7  Abyie: Flood - 01/07/2018  Weather related   \n",
       "1  AFG  Afghanistan  2008      1                          -  Weather related   \n",
       "2  AFG  Afghanistan  2008      8                          -  Weather related   \n",
       "3  AFG  Afghanistan  2008      4                          -      Geophysical   \n",
       "4  AFG  Afghanistan  2009      1                          -  Weather related   \n",
       "\n",
       "           hazard_type  affected     continent  temp  \n",
       "0                flood         2  no_continent   NaN  \n",
       "1  extreme temperature         0            AS   NaN  \n",
       "2                flood       180            AS   NaN  \n",
       "3           earthquake      3250            AS   NaN  \n",
       "4                flood     25185            AS   NaN  "
      ]
     },
     "execution_count": 42,
     "metadata": {},
     "output_type": "execute_result"
    }
   ],
   "source": [
    "merge.head()"
   ]
  },
  {
   "cell_type": "markdown",
   "metadata": {},
   "source": [
    "Creating a column with the year and the month with a datetime type"
   ]
  },
  {
   "cell_type": "code",
   "execution_count": 43,
   "metadata": {},
   "outputs": [],
   "source": [
    "merge=merge.assign(year_month=pd.to_datetime(merge[\"year\"].astype(str)+\"-\"+merge[\"month\"].astype(str)+\"-01\"))"
   ]
  },
  {
   "cell_type": "markdown",
   "metadata": {},
   "source": [
    "Rearrenging the order"
   ]
  },
  {
   "cell_type": "code",
   "execution_count": 44,
   "metadata": {},
   "outputs": [],
   "source": [
    "merge=merge[[\"iso3\",\"country\",\"continent\",\"year\",\"month\",\"year_month\",\"event_country\",\"hazard_category\",\"hazard_type\",\"affected\",\"temp\"]]"
   ]
  },
  {
   "cell_type": "code",
   "execution_count": 45,
   "metadata": {},
   "outputs": [
    {
     "data": {
      "text/html": [
       "<div>\n",
       "<style scoped>\n",
       "    .dataframe tbody tr th:only-of-type {\n",
       "        vertical-align: middle;\n",
       "    }\n",
       "\n",
       "    .dataframe tbody tr th {\n",
       "        vertical-align: top;\n",
       "    }\n",
       "\n",
       "    .dataframe thead th {\n",
       "        text-align: right;\n",
       "    }\n",
       "</style>\n",
       "<table border=\"1\" class=\"dataframe\">\n",
       "  <thead>\n",
       "    <tr style=\"text-align: right;\">\n",
       "      <th></th>\n",
       "      <th>iso3</th>\n",
       "      <th>country</th>\n",
       "      <th>continent</th>\n",
       "      <th>year</th>\n",
       "      <th>month</th>\n",
       "      <th>year_month</th>\n",
       "      <th>event_country</th>\n",
       "      <th>hazard_category</th>\n",
       "      <th>hazard_type</th>\n",
       "      <th>affected</th>\n",
       "      <th>temp</th>\n",
       "    </tr>\n",
       "  </thead>\n",
       "  <tbody>\n",
       "    <tr>\n",
       "      <td>0</td>\n",
       "      <td>AB9</td>\n",
       "      <td>Abyei Area</td>\n",
       "      <td>no_continent</td>\n",
       "      <td>2018</td>\n",
       "      <td>7</td>\n",
       "      <td>2018-07-01</td>\n",
       "      <td>Abyie: Flood - 01/07/2018</td>\n",
       "      <td>Weather related</td>\n",
       "      <td>flood</td>\n",
       "      <td>2</td>\n",
       "      <td>NaN</td>\n",
       "    </tr>\n",
       "    <tr>\n",
       "      <td>1</td>\n",
       "      <td>AFG</td>\n",
       "      <td>Afghanistan</td>\n",
       "      <td>AS</td>\n",
       "      <td>2008</td>\n",
       "      <td>1</td>\n",
       "      <td>2008-01-01</td>\n",
       "      <td>-</td>\n",
       "      <td>Weather related</td>\n",
       "      <td>extreme temperature</td>\n",
       "      <td>0</td>\n",
       "      <td>NaN</td>\n",
       "    </tr>\n",
       "    <tr>\n",
       "      <td>2</td>\n",
       "      <td>AFG</td>\n",
       "      <td>Afghanistan</td>\n",
       "      <td>AS</td>\n",
       "      <td>2008</td>\n",
       "      <td>8</td>\n",
       "      <td>2008-08-01</td>\n",
       "      <td>-</td>\n",
       "      <td>Weather related</td>\n",
       "      <td>flood</td>\n",
       "      <td>180</td>\n",
       "      <td>NaN</td>\n",
       "    </tr>\n",
       "    <tr>\n",
       "      <td>3</td>\n",
       "      <td>AFG</td>\n",
       "      <td>Afghanistan</td>\n",
       "      <td>AS</td>\n",
       "      <td>2008</td>\n",
       "      <td>4</td>\n",
       "      <td>2008-04-01</td>\n",
       "      <td>-</td>\n",
       "      <td>Geophysical</td>\n",
       "      <td>earthquake</td>\n",
       "      <td>3250</td>\n",
       "      <td>NaN</td>\n",
       "    </tr>\n",
       "    <tr>\n",
       "      <td>4</td>\n",
       "      <td>AFG</td>\n",
       "      <td>Afghanistan</td>\n",
       "      <td>AS</td>\n",
       "      <td>2009</td>\n",
       "      <td>1</td>\n",
       "      <td>2009-01-01</td>\n",
       "      <td>-</td>\n",
       "      <td>Weather related</td>\n",
       "      <td>flood</td>\n",
       "      <td>25185</td>\n",
       "      <td>NaN</td>\n",
       "    </tr>\n",
       "  </tbody>\n",
       "</table>\n",
       "</div>"
      ],
      "text/plain": [
       "  iso3      country     continent  year  month year_month  \\\n",
       "0  AB9   Abyei Area  no_continent  2018      7 2018-07-01   \n",
       "1  AFG  Afghanistan            AS  2008      1 2008-01-01   \n",
       "2  AFG  Afghanistan            AS  2008      8 2008-08-01   \n",
       "3  AFG  Afghanistan            AS  2008      4 2008-04-01   \n",
       "4  AFG  Afghanistan            AS  2009      1 2009-01-01   \n",
       "\n",
       "               event_country  hazard_category          hazard_type  affected  \\\n",
       "0  Abyie: Flood - 01/07/2018  Weather related                flood         2   \n",
       "1                          -  Weather related  extreme temperature         0   \n",
       "2                          -  Weather related                flood       180   \n",
       "3                          -      Geophysical           earthquake      3250   \n",
       "4                          -  Weather related                flood     25185   \n",
       "\n",
       "   temp  \n",
       "0   NaN  \n",
       "1   NaN  \n",
       "2   NaN  \n",
       "3   NaN  \n",
       "4   NaN  "
      ]
     },
     "execution_count": 45,
     "metadata": {},
     "output_type": "execute_result"
    }
   ],
   "source": [
    "merge.head()"
   ]
  },
  {
   "cell_type": "markdown",
   "metadata": {},
   "source": [
    "#### Checking that the types remain correct"
   ]
  },
  {
   "cell_type": "code",
   "execution_count": 46,
   "metadata": {},
   "outputs": [
    {
     "data": {
      "text/plain": [
       "iso3                       object\n",
       "country                    object\n",
       "continent                  object\n",
       "year                        int64\n",
       "month                       int64\n",
       "year_month         datetime64[ns]\n",
       "event_country              object\n",
       "hazard_category            object\n",
       "hazard_type                object\n",
       "affected                    int64\n",
       "temp                      float64\n",
       "dtype: object"
      ]
     },
     "execution_count": 46,
     "metadata": {},
     "output_type": "execute_result"
    }
   ],
   "source": [
    "merge.dtypes"
   ]
  },
  {
   "cell_type": "markdown",
   "metadata": {},
   "source": [
    "### Exporting as a pickle file the merged df"
   ]
  },
  {
   "cell_type": "code",
   "execution_count": 47,
   "metadata": {},
   "outputs": [],
   "source": [
    "merge.to_pickle(\"output/merged.pkl\")"
   ]
  }
 ],
 "metadata": {
  "kernelspec": {
   "display_name": "Python 3",
   "language": "python",
   "name": "python3"
  },
  "language_info": {
   "codemirror_mode": {
    "name": "ipython",
    "version": 3
   },
   "file_extension": ".py",
   "mimetype": "text/x-python",
   "name": "python",
   "nbconvert_exporter": "python",
   "pygments_lexer": "ipython3",
   "version": "3.7.5"
  }
 },
 "nbformat": 4,
 "nbformat_minor": 2
}
